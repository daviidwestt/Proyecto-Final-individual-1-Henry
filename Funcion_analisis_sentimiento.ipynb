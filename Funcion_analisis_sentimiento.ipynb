{
 "cells": [
  {
   "cell_type": "markdown",
   "metadata": {},
   "source": [
    "FUNCIONES\n",
    "en este notebook vamos a estar creando las funciones que nos piden en el repositorio  de GitHub.\n"
   ]
  },
  {
   "cell_type": "code",
   "execution_count": 2,
   "metadata": {},
   "outputs": [],
   "source": [
    "#primero que todo empezamos importando las librerias a usar\n",
    "import pandas as pd\n",
    "import numpy as np\n",
    "from textblob import TextBlob"
   ]
  },
  {
   "cell_type": "code",
   "execution_count": 3,
   "metadata": {},
   "outputs": [],
   "source": [
    "#vamos a leer todos los dataset a los cuales le estuvimos haciendo su respectiva limpieza y analisis\n",
    "users_reviews_dfb = pd.read_csv('C:/Users/CRISTIAN/Desktop/Proyecto final #  1/Proyecto-Final-individual-1-Henry/csv/user_reviews_exportado_limpio.csv')\n"
   ]
  },
  {
   "cell_type": "code",
   "execution_count": 4,
   "metadata": {},
   "outputs": [
    {
     "name": "stdout",
     "output_type": "stream",
     "text": [
      "<class 'pandas.core.frame.DataFrame'>\n",
      "RangeIndex: 25449 entries, 0 to 25448\n",
      "Data columns (total 11 columns):\n",
      " #   Column      Non-Null Count  Dtype  \n",
      "---  ------      --------------  -----  \n",
      " 0   Unnamed: 0  25449 non-null  int64  \n",
      " 1   user_id     25449 non-null  object \n",
      " 2   user_url    25449 non-null  object \n",
      " 3   reviews     25449 non-null  object \n",
      " 4   posted      20818 non-null  float64\n",
      " 5   item_id     25449 non-null  int64  \n",
      " 6   helpful     25449 non-null  object \n",
      " 7   recommend   25449 non-null  bool   \n",
      " 8   review      25437 non-null  object \n",
      " 9   polarity    25449 non-null  float64\n",
      " 10  sentiment   25449 non-null  int64  \n",
      "dtypes: bool(1), float64(2), int64(3), object(5)\n",
      "memory usage: 2.0+ MB\n"
     ]
    }
   ],
   "source": [
    "#revisamos la informacion en general\n",
    "users_reviews_dfb.info()"
   ]
  },
  {
   "cell_type": "code",
   "execution_count": 5,
   "metadata": {},
   "outputs": [],
   "source": [
    "#Creación de la función para poder analizar la columna review:\n",
    "def  analyze_review(opinion):\n",
    "    if isinstance(opinion, str) and len(opinion) > 0:\n",
    "        analisis = TextBlob(opinion)\n",
    "        sentimiento = analisis.sentiment.polarity\n",
    "        if sentimiento < -0.1:\n",
    "            return 0\n",
    "        elif sentimiento <= 0.1:\n",
    "            return 2\n",
    "        else:\n",
    "            return 1\n",
    "    else:\n",
    "        return 1\n"
   ]
  },
  {
   "cell_type": "code",
   "execution_count": 6,
   "metadata": {},
   "outputs": [
    {
     "data": {
      "text/plain": [
       "2"
      ]
     },
     "execution_count": 6,
     "metadata": {},
     "output_type": "execute_result"
    }
   ],
   "source": [
    "#verificamos que el analisis sea de manera carrecta\n",
    "users_reviews_dfb['sentiment'][3]"
   ]
  },
  {
   "cell_type": "code",
   "execution_count": 7,
   "metadata": {},
   "outputs": [],
   "source": [
    "users_reviews_dfb.to_csv('../analisis_sentimiento.csv', index=False)"
   ]
  }
 ],
 "metadata": {
  "kernelspec": {
   "display_name": "Python 3",
   "language": "python",
   "name": "python3"
  },
  "language_info": {
   "codemirror_mode": {
    "name": "ipython",
    "version": 3
   },
   "file_extension": ".py",
   "mimetype": "text/x-python",
   "name": "python",
   "nbconvert_exporter": "python",
   "pygments_lexer": "ipython3",
   "version": "3.12.2"
  }
 },
 "nbformat": 4,
 "nbformat_minor": 2
}
