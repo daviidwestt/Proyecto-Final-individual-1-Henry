{
 "cells": [
  {
   "cell_type": "code",
   "execution_count": 1,
   "metadata": {},
   "outputs": [],
   "source": [
    "#Importamos la librerias que vayamos a utiliar\n",
    "import pandas as pd\n",
    "import matplotlib.pyplot as plt\n",
    "import matplotlib.ticker as ticker\n",
    "import seaborn as sns\n",
    "from wordcloud import WordCloud\n"
   ]
  },
  {
   "cell_type": "markdown",
   "metadata": {},
   "source": [
    "EDA-Exploratory Data Analysis"
   ]
  },
  {
   "cell_type": "code",
   "execution_count": 4,
   "metadata": {},
   "outputs": [],
   "source": [
    "#cargamos el dataframe\n",
    "games_steam_df = pd.read_csv(('C:/Users/CRISTIAN/Desktop/Proyecto final #  1/Proyecto-Final-individual-1-Henry/csv/games_steam_exportado.csv'))\n"
   ]
  },
  {
   "cell_type": "code",
   "execution_count": 5,
   "metadata": {},
   "outputs": [
    {
     "name": "stdout",
     "output_type": "stream",
     "text": [
      "<class 'pandas.core.frame.DataFrame'>\n",
      "RangeIndex: 74834 entries, 0 to 74833\n",
      "Data columns (total 14 columns):\n",
      " #   Column        Non-Null Count  Dtype  \n",
      "---  ------        --------------  -----  \n",
      " 0   Unnamed: 0    74834 non-null  int64  \n",
      " 1   publisher     59193 non-null  object \n",
      " 2   app_name      74831 non-null  object \n",
      " 3   title         72783 non-null  object \n",
      " 4   url           74834 non-null  object \n",
      " 5   tags          74649 non-null  object \n",
      " 6   reviews_url   74833 non-null  object \n",
      " 7   specs         73893 non-null  object \n",
      " 8   price         74834 non-null  float64\n",
      " 9   early_access  74834 non-null  bool   \n",
      " 10  item_id       74833 non-null  float64\n",
      " 11  developer     71355 non-null  object \n",
      " 12  release_year  72441 non-null  float64\n",
      " 13  genres        71551 non-null  object \n",
      "dtypes: bool(1), float64(3), int64(1), object(9)\n",
      "memory usage: 7.5+ MB\n"
     ]
    }
   ],
   "source": [
    "#informacion general\n",
    "games_steam_df.info()"
   ]
  },
  {
   "cell_type": "code",
   "execution_count": 6,
   "metadata": {},
   "outputs": [
    {
     "data": {
      "text/html": [
       "<div>\n",
       "<style scoped>\n",
       "    .dataframe tbody tr th:only-of-type {\n",
       "        vertical-align: middle;\n",
       "    }\n",
       "\n",
       "    .dataframe tbody tr th {\n",
       "        vertical-align: top;\n",
       "    }\n",
       "\n",
       "    .dataframe thead th {\n",
       "        text-align: right;\n",
       "    }\n",
       "</style>\n",
       "<table border=\"1\" class=\"dataframe\">\n",
       "  <thead>\n",
       "    <tr style=\"text-align: right;\">\n",
       "      <th></th>\n",
       "      <th>Unnamed: 0</th>\n",
       "      <th>price</th>\n",
       "      <th>item_id</th>\n",
       "      <th>release_year</th>\n",
       "    </tr>\n",
       "  </thead>\n",
       "  <tbody>\n",
       "    <tr>\n",
       "      <th>count</th>\n",
       "      <td>74834.000000</td>\n",
       "      <td>74834.000000</td>\n",
       "      <td>7.483300e+04</td>\n",
       "      <td>72441.000000</td>\n",
       "    </tr>\n",
       "    <tr>\n",
       "      <th>mean</th>\n",
       "      <td>15959.255940</td>\n",
       "      <td>8.405883</td>\n",
       "      <td>4.662488e+05</td>\n",
       "      <td>2015.195607</td>\n",
       "    </tr>\n",
       "    <tr>\n",
       "      <th>std</th>\n",
       "      <td>8951.242323</td>\n",
       "      <td>15.923128</td>\n",
       "      <td>1.731647e+05</td>\n",
       "      <td>2.921323</td>\n",
       "    </tr>\n",
       "    <tr>\n",
       "      <th>min</th>\n",
       "      <td>0.000000</td>\n",
       "      <td>0.000000</td>\n",
       "      <td>1.000000e+01</td>\n",
       "      <td>1970.000000</td>\n",
       "    </tr>\n",
       "    <tr>\n",
       "      <th>25%</th>\n",
       "      <td>8269.000000</td>\n",
       "      <td>1.990000</td>\n",
       "      <td>3.441400e+05</td>\n",
       "      <td>2015.000000</td>\n",
       "    </tr>\n",
       "    <tr>\n",
       "      <th>50%</th>\n",
       "      <td>15863.500000</td>\n",
       "      <td>4.990000</td>\n",
       "      <td>4.626700e+05</td>\n",
       "      <td>2016.000000</td>\n",
       "    </tr>\n",
       "    <tr>\n",
       "      <th>75%</th>\n",
       "      <td>23690.750000</td>\n",
       "      <td>9.990000</td>\n",
       "      <td>6.020700e+05</td>\n",
       "      <td>2017.000000</td>\n",
       "    </tr>\n",
       "    <tr>\n",
       "      <th>max</th>\n",
       "      <td>32134.000000</td>\n",
       "      <td>995.000000</td>\n",
       "      <td>2.028850e+06</td>\n",
       "      <td>2021.000000</td>\n",
       "    </tr>\n",
       "  </tbody>\n",
       "</table>\n",
       "</div>"
      ],
      "text/plain": [
       "         Unnamed: 0         price       item_id  release_year\n",
       "count  74834.000000  74834.000000  7.483300e+04  72441.000000\n",
       "mean   15959.255940      8.405883  4.662488e+05   2015.195607\n",
       "std     8951.242323     15.923128  1.731647e+05      2.921323\n",
       "min        0.000000      0.000000  1.000000e+01   1970.000000\n",
       "25%     8269.000000      1.990000  3.441400e+05   2015.000000\n",
       "50%    15863.500000      4.990000  4.626700e+05   2016.000000\n",
       "75%    23690.750000      9.990000  6.020700e+05   2017.000000\n",
       "max    32134.000000    995.000000  2.028850e+06   2021.000000"
      ]
     },
     "execution_count": 6,
     "metadata": {},
     "output_type": "execute_result"
    }
   ],
   "source": [
    "#Estadistica descriptiva de variables númericas\n",
    "games_steam_df.describe()\n"
   ]
  },
  {
   "cell_type": "code",
   "execution_count": 7,
   "metadata": {},
   "outputs": [],
   "source": [
    "#Estadistica descriptiva de variables categoricas:\n",
    "columnas_object = games_steam_df.select_dtypes(include=['object']).columns\n",
    "df = games_steam_df[columnas_object]"
   ]
  },
  {
   "cell_type": "code",
   "execution_count": 8,
   "metadata": {},
   "outputs": [
    {
     "data": {
      "text/html": [
       "<div>\n",
       "<style scoped>\n",
       "    .dataframe tbody tr th:only-of-type {\n",
       "        vertical-align: middle;\n",
       "    }\n",
       "\n",
       "    .dataframe tbody tr th {\n",
       "        vertical-align: top;\n",
       "    }\n",
       "\n",
       "    .dataframe thead th {\n",
       "        text-align: right;\n",
       "    }\n",
       "</style>\n",
       "<table border=\"1\" class=\"dataframe\">\n",
       "  <thead>\n",
       "    <tr style=\"text-align: right;\">\n",
       "      <th></th>\n",
       "      <th>publisher</th>\n",
       "      <th>app_name</th>\n",
       "      <th>title</th>\n",
       "      <th>url</th>\n",
       "      <th>tags</th>\n",
       "      <th>reviews_url</th>\n",
       "      <th>specs</th>\n",
       "      <th>developer</th>\n",
       "      <th>genres</th>\n",
       "    </tr>\n",
       "  </thead>\n",
       "  <tbody>\n",
       "    <tr>\n",
       "      <th>count</th>\n",
       "      <td>59193</td>\n",
       "      <td>74831</td>\n",
       "      <td>72783</td>\n",
       "      <td>74834</td>\n",
       "      <td>74649</td>\n",
       "      <td>74833</td>\n",
       "      <td>73893</td>\n",
       "      <td>71355</td>\n",
       "      <td>71551</td>\n",
       "    </tr>\n",
       "    <tr>\n",
       "      <th>unique</th>\n",
       "      <td>8236</td>\n",
       "      <td>32094</td>\n",
       "      <td>30054</td>\n",
       "      <td>32133</td>\n",
       "      <td>15395</td>\n",
       "      <td>32132</td>\n",
       "      <td>4649</td>\n",
       "      <td>10992</td>\n",
       "      <td>22</td>\n",
       "    </tr>\n",
       "    <tr>\n",
       "      <th>top</th>\n",
       "      <td>KISS ltd</td>\n",
       "      <td>AutoTileSet</td>\n",
       "      <td>AutoTileSet</td>\n",
       "      <td>http://store.steampowered.com/app/313320/AutoT...</td>\n",
       "      <td>['Casual', 'Simulation']</td>\n",
       "      <td>http://steamcommunity.com/app/313320/reviews/?...</td>\n",
       "      <td>['Single-player']</td>\n",
       "      <td>Ubisoft - San Francisco</td>\n",
       "      <td>Indie</td>\n",
       "    </tr>\n",
       "    <tr>\n",
       "      <th>freq</th>\n",
       "      <td>807</td>\n",
       "      <td>11</td>\n",
       "      <td>11</td>\n",
       "      <td>11</td>\n",
       "      <td>2581</td>\n",
       "      <td>11</td>\n",
       "      <td>6298</td>\n",
       "      <td>2516</td>\n",
       "      <td>15858</td>\n",
       "    </tr>\n",
       "  </tbody>\n",
       "</table>\n",
       "</div>"
      ],
      "text/plain": [
       "       publisher     app_name        title  \\\n",
       "count      59193        74831        72783   \n",
       "unique      8236        32094        30054   \n",
       "top     KISS ltd  AutoTileSet  AutoTileSet   \n",
       "freq         807           11           11   \n",
       "\n",
       "                                                      url  \\\n",
       "count                                               74834   \n",
       "unique                                              32133   \n",
       "top     http://store.steampowered.com/app/313320/AutoT...   \n",
       "freq                                                   11   \n",
       "\n",
       "                            tags  \\\n",
       "count                      74649   \n",
       "unique                     15395   \n",
       "top     ['Casual', 'Simulation']   \n",
       "freq                        2581   \n",
       "\n",
       "                                              reviews_url              specs  \\\n",
       "count                                               74833              73893   \n",
       "unique                                              32132               4649   \n",
       "top     http://steamcommunity.com/app/313320/reviews/?...  ['Single-player']   \n",
       "freq                                                   11               6298   \n",
       "\n",
       "                      developer genres  \n",
       "count                     71355  71551  \n",
       "unique                    10992     22  \n",
       "top     Ubisoft - San Francisco  Indie  \n",
       "freq                       2516  15858  "
      ]
     },
     "execution_count": 8,
     "metadata": {},
     "output_type": "execute_result"
    }
   ],
   "source": [
    "df.describe()"
   ]
  },
  {
   "cell_type": "code",
   "execution_count": 126,
   "metadata": {},
   "outputs": [
    {
     "data": {
      "text/plain": [
       "32094"
      ]
     },
     "execution_count": 126,
     "metadata": {},
     "output_type": "execute_result"
    }
   ],
   "source": [
    "#cantidad de registros segundo 'item_id'\n",
    "games_steam_df['id'].nunique()"
   ]
  },
  {
   "cell_type": "code",
   "execution_count": 9,
   "metadata": {},
   "outputs": [
    {
     "data": {
      "text/plain": [
       "array([2018., 2017.,   nan, 1997., 1998., 2016., 2006., 2005., 2003.,\n",
       "       2007., 2002., 2000., 1995., 1996., 1994., 2001., 1993., 2004.,\n",
       "       1999., 2008., 2009., 1992., 1989., 2010., 2011., 2013., 2012.,\n",
       "       2014., 1983., 1984., 2015., 1990., 1988., 1991., 1985., 1982.,\n",
       "       1987., 1981., 1986., 2021., 2019., 1975., 1970., 1980.])"
      ]
     },
     "execution_count": 9,
     "metadata": {},
     "output_type": "execute_result"
    }
   ],
   "source": [
    "games_steam_df['release_year'].unique()"
   ]
  },
  {
   "cell_type": "code",
   "execution_count": 10,
   "metadata": {},
   "outputs": [
    {
     "data": {
      "text/plain": [
       "release_year\n",
       "2017.0    25509\n",
       "2016.0    17935\n",
       "2015.0    12423\n",
       "2014.0     6471\n",
       "2013.0     3091\n",
       "2012.0     2161\n",
       "2011.0     1035\n",
       "2010.0      706\n",
       "2009.0      513\n",
       "2018.0      500\n",
       "2008.0      351\n",
       "2007.0      277\n",
       "2006.0      230\n",
       "2005.0      149\n",
       "2003.0      128\n",
       "2001.0      119\n",
       "2004.0      107\n",
       "1999.0       87\n",
       "1998.0       86\n",
       "2002.0       70\n",
       "1997.0       67\n",
       "1996.0       60\n",
       "2000.0       60\n",
       "1994.0       56\n",
       "1995.0       51\n",
       "1993.0       49\n",
       "1992.0       26\n",
       "1991.0       26\n",
       "1990.0       16\n",
       "1989.0       14\n",
       "2019.0       13\n",
       "1988.0       11\n",
       "1987.0       10\n",
       "1984.0        7\n",
       "1983.0        6\n",
       "1986.0        5\n",
       "1985.0        3\n",
       "1982.0        3\n",
       "1981.0        3\n",
       "2021.0        3\n",
       "1970.0        2\n",
       "1975.0        1\n",
       "1980.0        1\n",
       "Name: count, dtype: int64"
      ]
     },
     "execution_count": 10,
     "metadata": {},
     "output_type": "execute_result"
    }
   ],
   "source": [
    "#distribucion de juegos, segun el año de lanzamiento\n",
    "year_game = games_steam_df['release_year'].value_counts()\n",
    "year_game"
   ]
  },
  {
   "cell_type": "code",
   "execution_count": 42,
   "metadata": {},
   "outputs": [
    {
     "name": "stderr",
     "output_type": "stream",
     "text": [
      "C:\\Users\\CRISTIAN\\AppData\\Local\\Temp\\ipykernel_1396\\79325713.py:1: FutureWarning: \n",
      "\n",
      "Passing `palette` without assigning `hue` is deprecated and will be removed in v0.14.0. Assign the `x` variable to `hue` and set `legend=False` for the same effect.\n",
      "\n",
      "  sns.barplot(x= year_game.index.astype(int), y= year_game.values, palette='coolwarm')\n"
     ]
    },
    {
     "data": {
      "image/png": "[encoded data removed]",
      "text/plain": [
       "<Figure size 640x480 with 1 Axes>"
      ]
     },
     "metadata": {},
     "output_type": "display_data"
    }
   ],
   "source": [
    "sns.barplot(x= year_game.index.astype(int), y= year_game.values, palette='coolwarm')\n",
    "plt.title('Cantidad de Juegos por Año de Lanzamiento')\n",
    "plt.xlabel('Año de Lanzamiento') \n",
    "plt.ylabel('Cantidad de Juegos')\n",
    "plt.xticks(rotation= 60, fontsize=8)\n",
    "plt.tight_layout()\n",
    "plt.show()"
   ]
  },
  {
   "cell_type": "code",
   "execution_count": 27,
   "metadata": {},
   "outputs": [
    {
     "data": {
      "text/plain": [
       "genres\n",
       "Indie                      15858\n",
       "Action                     11319\n",
       "Casual                      8282\n",
       "Adventure                   8242\n",
       "Strategy                    6957\n",
       "Simulation                  6699\n",
       "RPG                         5479\n",
       "Free to Play                2031\n",
       "Early Access                1462\n",
       "Sports                      1257\n",
       "Massively Multiplayer       1108\n",
       "Racing                      1083\n",
       "Design and Illustration      460\n",
       "Utilities                    340\n",
       "Web Publishing               268\n",
       "Animation and Modeling       183\n",
       "Education                    125\n",
       "Video Production             116\n",
       "Software Training            105\n",
       "Audio Production              93\n",
       "Photo Editing                 77\n",
       "Accounting                     7\n",
       "Name: count, dtype: int64"
      ]
     },
     "execution_count": 27,
     "metadata": {},
     "output_type": "execute_result"
    }
   ],
   "source": [
    "#Distribución de juegos según genero\n",
    "genre_year = games_steam_df['genres'].value_counts().sort_values(ascending=False)\n",
    "genre_year"
   ]
  },
  {
   "cell_type": "code",
   "execution_count": 41,
   "metadata": {},
   "outputs": [
    {
     "name": "stderr",
     "output_type": "stream",
     "text": [
      "C:\\Users\\CRISTIAN\\AppData\\Local\\Temp\\ipykernel_1396\\1922835127.py:2: FutureWarning: \n",
      "\n",
      "Passing `palette` without assigning `hue` is deprecated and will be removed in v0.14.0. Assign the `y` variable to `hue` and set `legend=False` for the same effect.\n",
      "\n",
      "  sns.countplot(data=games_steam_df, y='genres', orient='h', palette='husl', order=games_steam_df['genres'].value_counts().sort_values(ascending= False).index)\n"
     ]
    },
    {
     "data": {
      "image/png": "[encoded data removed]",
      "text/plain": [
       "<Figure size 700x400 with 1 Axes>"
      ]
     },
     "metadata": {},
     "output_type": "display_data"
    }
   ],
   "source": [
    "plt.figure(figsize=(7, 4))\n",
    "sns.countplot(data=games_steam_df, y='genres', orient='h', palette='husl', order=games_steam_df['genres'].value_counts().sort_values(ascending= False).index)\n",
    "plt.title('Cantidad de Juegos por Género')\n",
    "plt.xlabel('Cantidad de Juegos')\n",
    "plt.ylabel('Género')\n",
    "\n",
    "plt.show()"
   ]
  },
  {
   "cell_type": "code",
   "execution_count": 30,
   "metadata": {},
   "outputs": [],
   "source": [
    "#Obtenemos el precio para cada juego\n",
    "precios = games_steam_df.groupby('item_id')['price'].unique().reset_index().explode('price')"
   ]
  },
  {
   "cell_type": "code",
   "execution_count": 31,
   "metadata": {},
   "outputs": [],
   "source": [
    "#Nos quedamos solo con nuestros precios distintos a '--', ya que ese valor reemplaza a los valore nulos\n",
    "precios = precios[precios['price'] != '--']"
   ]
  },
  {
   "cell_type": "code",
   "execution_count": 32,
   "metadata": {},
   "outputs": [],
   "source": [
    "#Cambiamos el tipo de dato de la columna price a float\n",
    "precios['price'] = precios['price'].astype(float)"
   ]
  },
  {
   "cell_type": "code",
   "execution_count": 43,
   "metadata": {},
   "outputs": [
    {
     "name": "stderr",
     "output_type": "stream",
     "text": [
      "C:\\Users\\CRISTIAN\\AppData\\Local\\Temp\\ipykernel_1396\\4020635955.py:3: FutureWarning: \n",
      "\n",
      "Passing `palette` without assigning `hue` is deprecated and will be removed in v0.14.0. Assign the `y` variable to `hue` and set `legend=False` for the same effect.\n",
      "\n",
      "  sns.boxplot(x = 'price', data = precios, linewidth = 2, palette = 'dark')\n"
     ]
    },
    {
     "data": {
      "image/png": "[encoded data removed]",
      "text/plain": [
       "<Figure size 1400x300 with 1 Axes>"
      ]
     },
     "metadata": {},
     "output_type": "display_data"
    }
   ],
   "source": [
    "#Graficamos\n",
    "plt.figure(figsize = (14, 3))\n",
    "sns.boxplot(x = 'price', data = precios, linewidth = 2, palette = 'dark') \n",
    "plt.title('Distribución de Precios')\n",
    "plt.xlabel('Precio')\n",
    "plt.show()"
   ]
  },
  {
   "cell_type": "code",
   "execution_count": 34,
   "metadata": {},
   "outputs": [
    {
     "data": {
      "text/html": [
       "<div>\n",
       "<style scoped>\n",
       "    .dataframe tbody tr th:only-of-type {\n",
       "        vertical-align: middle;\n",
       "    }\n",
       "\n",
       "    .dataframe tbody tr th {\n",
       "        vertical-align: top;\n",
       "    }\n",
       "\n",
       "    .dataframe thead th {\n",
       "        text-align: right;\n",
       "    }\n",
       "</style>\n",
       "<table border=\"1\" class=\"dataframe\">\n",
       "  <thead>\n",
       "    <tr style=\"text-align: right;\">\n",
       "      <th></th>\n",
       "      <th>item_id</th>\n",
       "      <th>price</th>\n",
       "    </tr>\n",
       "  </thead>\n",
       "  <tbody>\n",
       "    <tr>\n",
       "      <th>count</th>\n",
       "      <td>3.213200e+04</td>\n",
       "      <td>32132.000000</td>\n",
       "    </tr>\n",
       "    <tr>\n",
       "      <th>mean</th>\n",
       "      <td>4.517524e+05</td>\n",
       "      <td>8.514090</td>\n",
       "    </tr>\n",
       "    <tr>\n",
       "      <th>std</th>\n",
       "      <td>1.827147e+05</td>\n",
       "      <td>16.086051</td>\n",
       "    </tr>\n",
       "    <tr>\n",
       "      <th>min</th>\n",
       "      <td>1.000000e+01</td>\n",
       "      <td>0.000000</td>\n",
       "    </tr>\n",
       "    <tr>\n",
       "      <th>25%</th>\n",
       "      <td>3.292775e+05</td>\n",
       "      <td>1.990000</td>\n",
       "    </tr>\n",
       "    <tr>\n",
       "      <th>50%</th>\n",
       "      <td>4.520300e+05</td>\n",
       "      <td>4.990000</td>\n",
       "    </tr>\n",
       "    <tr>\n",
       "      <th>75%</th>\n",
       "      <td>5.933925e+05</td>\n",
       "      <td>9.990000</td>\n",
       "    </tr>\n",
       "    <tr>\n",
       "      <th>max</th>\n",
       "      <td>2.028850e+06</td>\n",
       "      <td>995.000000</td>\n",
       "    </tr>\n",
       "  </tbody>\n",
       "</table>\n",
       "</div>"
      ],
      "text/plain": [
       "            item_id         price\n",
       "count  3.213200e+04  32132.000000\n",
       "mean   4.517524e+05      8.514090\n",
       "std    1.827147e+05     16.086051\n",
       "min    1.000000e+01      0.000000\n",
       "25%    3.292775e+05      1.990000\n",
       "50%    4.520300e+05      4.990000\n",
       "75%    5.933925e+05      9.990000\n",
       "max    2.028850e+06    995.000000"
      ]
     },
     "execution_count": 34,
     "metadata": {},
     "output_type": "execute_result"
    }
   ],
   "source": [
    "#Estadistica descriptiva del DataFrame precios:\n",
    "precios.describe()"
   ]
  },
  {
   "cell_type": "code",
   "execution_count": 35,
   "metadata": {},
   "outputs": [],
   "source": [
    "#Filtramos los precios, menores a 100, para ver mas en detalle\n",
    "precios_filter = precios[precios['price'] < 100]"
   ]
  },
  {
   "cell_type": "code",
   "execution_count": 46,
   "metadata": {},
   "outputs": [
    {
     "data": {
      "image/png": "[encoded data removed]",
      "text/plain": [
       "<Figure size 1400x300 with 1 Axes>"
      ]
     },
     "metadata": {},
     "output_type": "display_data"
    }
   ],
   "source": [
    "#Graficamos\n",
    "plt.figure(figsize = (14, 3))\n",
    "sns.boxplot(x = 'price', data = precios_filter, linewidth = 2, color= 'darkslateblue') \n",
    "plt.title('Distribución de Precios Filtrados')\n",
    "plt.xlabel('Precio')\n",
    "plt.show()"
   ]
  },
  {
   "cell_type": "code",
   "execution_count": 37,
   "metadata": {},
   "outputs": [
    {
     "name": "stdout",
     "output_type": "stream",
     "text": [
      "La cantidad de outliers es de: 1875\n"
     ]
    }
   ],
   "source": [
    "#nos damos cuenta que los outliers comienzan pasados los 20 USD. Asique procedemos a contarlos:\n",
    "cantidad_outliers = (precios['price'] > 22).sum()\n",
    "print(f'La cantidad de outliers es de: {cantidad_outliers}')"
   ]
  },
  {
   "cell_type": "code",
   "execution_count": 38,
   "metadata": {},
   "outputs": [
    {
     "name": "stdout",
     "output_type": "stream",
     "text": [
      "El porcentaje de outliers es de: 5.84%\n"
     ]
    }
   ],
   "source": [
    "#rectificamos el porcentaje de outlires\n",
    "porcentaje_outlires = round((cantidad_outliers / (precios['price'].count())) * 100, 2)\n",
    "print(f'El porcentaje de outliers es de: {porcentaje_outlires}%')"
   ]
  },
  {
   "cell_type": "markdown",
   "metadata": {},
   "source": [
    "Al analizar la proporción de valores atípicos en comparación con el total de registros y su porcentaje, concluimos que estos no alteran significativamente nuestro conjunto de datos. Es común encontrar juegos que cuesten más de 20 USD y que incluso puedan alcanzar precios de hasta 200 USD. Sin embargo, los precios que exceden los 200 USD probablemente sean resultado de errores en el registro de los datos o situaciones similares."
   ]
  },
  {
   "cell_type": "code",
   "execution_count": 39,
   "metadata": {},
   "outputs": [],
   "source": [
    "games_steam_df.to_csv(\"C:/Users/CRISTIAN/Desktop/Proyecto final #  1/Proyecto-Final-individual-1-Henry/csv/games_steam_exportado_limpio.csv\")"
   ]
  }
 ],
 "metadata": {
  "kernelspec": {
   "display_name": "Python 3",
   "language": "python",
   "name": "python3"
  },
  "language_info": {
   "codemirror_mode": {
    "name": "ipython",
    "version": 3
   },
   "file_extension": ".py",
   "mimetype": "text/x-python",
   "name": "python",
   "nbconvert_exporter": "python",
   "pygments_lexer": "ipython3",
   "version": "3.12.2"
  }
 },
 "nbformat": 4,
 "nbformat_minor": 2
}
