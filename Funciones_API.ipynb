{
 "cells": [
  {
   "cell_type": "code",
   "execution_count": 1,
   "metadata": {},
   "outputs": [],
   "source": [
    "#primero que todo empezamos importando las librerias a usar\n",
    "import pandas as pd\n",
    "import numpy as np\n",
    "from textblob import TextBlob"
   ]
  },
  {
   "cell_type": "code",
   "execution_count": 2,
   "metadata": {},
   "outputs": [],
   "source": [
    "#vamos a leer todos los dataset a los cuales le estuvimos haciendo su respectiva limpieza y analisis\n",
    "games_steam_df = pd.read_csv('C:/Users/CRISTIAN/Desktop/Proyecto final #  1/Proyecto-Final-individual-1-Henry/csv/games_steam_exportado_limpio.csv')\n",
    "users_reviews_dfb = pd.read_csv('C:/Users/CRISTIAN/Desktop/Proyecto final #  1/Proyecto-Final-individual-1-Henry/csv/user_reviews_exportado_limpio.csv')\n",
    "users_items_df = pd.read_csv('C:/Users/CRISTIAN/Desktop/Proyecto final #  1/Proyecto-Final-individual-1-Henry/csv/user_items_exportado_limpio.csv')"
   ]
  },
  {
   "cell_type": "markdown",
   "metadata": {},
   "source": [
    "CREACION DE FUNCIONES QUE REQUERIMOS EN PARA EL MANEJO DE LA API \n",
    "\n"
   ]
  },
  {
   "cell_type": "markdown",
   "metadata": {},
   "source": [
    "Función Developer\n",
    "\n",
    "def Developer(desarrollador: str): Cantidad de items y porcentaje de contenido Free por año según empresa desarrolladora. Ejemplo de retorno: {\"Año\": 2023, \"Cantidad de Items\": 50, \"Contenido Free\": 27%}"
   ]
  },
  {
   "cell_type": "code",
   "execution_count": 6,
   "metadata": {},
   "outputs": [],
   "source": [
    "#modificamos el nombre de la columna 'id', como 'item_id' para despues realizar uniones necesarias\n",
    "games_steam_df.rename(columns={'id':'item_id'}, inplace=True)"
   ]
  },
  {
   "cell_type": "code",
   "execution_count": 7,
   "metadata": {},
   "outputs": [],
   "source": [
    "#del dataframe 'games_steam' se extraen las columnas necesarias\n",
    "developer_df = games_steam_df[['price', 'release_year', 'developer', 'item_id']]"
   ]
  },
  {
   "cell_type": "code",
   "execution_count": 9,
   "metadata": {},
   "outputs": [
    {
     "name": "stderr",
     "output_type": "stream",
     "text": [
      "C:\\Users\\CRISTIAN\\AppData\\Local\\Temp\\ipykernel_19888\\374144068.py:2: SettingWithCopyWarning: \n",
      "A value is trying to be set on a copy of a slice from a DataFrame.\n",
      "Try using .loc[row_indexer,col_indexer] = value instead\n",
      "\n",
      "See the caveats in the documentation: https://pandas.pydata.org/pandas-docs/stable/user_guide/indexing.html#returning-a-view-versus-a-copy\n",
      "  developer_df['release_year'] = developer_df['release_year'].fillna(0).astype(int)\n"
     ]
    }
   ],
   "source": [
    "#cambiamos el tipo de dato de la columna 'release_year'\n",
    "developer_df['release_year'] = developer_df['release_year'].fillna(0).astype(int)"
   ]
  },
  {
   "cell_type": "code",
   "execution_count": 10,
   "metadata": {},
   "outputs": [
    {
     "name": "stderr",
     "output_type": "stream",
     "text": [
      "C:\\Users\\CRISTIAN\\AppData\\Local\\Temp\\ipykernel_19888\\3733963460.py:2: SettingWithCopyWarning: \n",
      "A value is trying to be set on a copy of a slice from a DataFrame.\n",
      "Try using .loc[row_indexer,col_indexer] = value instead\n",
      "\n",
      "See the caveats in the documentation: https://pandas.pydata.org/pandas-docs/stable/user_guide/indexing.html#returning-a-view-versus-a-copy\n",
      "  developer_df['item_id'] = pd.to_numeric(developer_df['item_id'], errors= 'coerce').fillna(0).astype(int)\n"
     ]
    }
   ],
   "source": [
    "#cambiamos el tipo de dato de la columna 'item_id'\n",
    "developer_df['item_id'] = pd.to_numeric(developer_df['item_id'], errors= 'coerce').fillna(0).astype(int)"
   ]
  },
  {
   "cell_type": "code",
   "execution_count": 11,
   "metadata": {},
   "outputs": [
    {
     "name": "stderr",
     "output_type": "stream",
     "text": [
      "C:\\Users\\CRISTIAN\\AppData\\Local\\Temp\\ipykernel_19888\\1211942844.py:2: SettingWithCopyWarning: \n",
      "A value is trying to be set on a copy of a slice from a DataFrame\n",
      "\n",
      "See the caveats in the documentation: https://pandas.pydata.org/pandas-docs/stable/user_guide/indexing.html#returning-a-view-versus-a-copy\n",
      "  developer_df.drop_duplicates(inplace=True)\n"
     ]
    }
   ],
   "source": [
    "#procedemos a eliminar duplicados\n",
    "developer_df.drop_duplicates(inplace=True)"
   ]
  },
  {
   "cell_type": "code",
   "execution_count": 12,
   "metadata": {},
   "outputs": [],
   "source": [
    "#creamos la funcion\n",
    "def Developer(desarrollador):\n",
    "    developer = developer_df[developer_df['developer'] == desarrollador]\n",
    "    item_año = developer.groupby('release_year')['item_id'].count()\n",
    "    gratis_año = developer[developer['price'] == 0.0].groupby('release_year')['item_id'].count()\n",
    "    porcentaje_gratis = ((gratis_año / item_año) * 100).fillna(0).astype(int)\n",
    "    return {\n",
    "        'cantidad por año': gratis_año.to_dict(),\n",
    "        'porcentaje gratuito por año': porcentaje_gratis.to_dict()\n",
    "    }"
   ]
  },
  {
   "cell_type": "code",
   "execution_count": 22,
   "metadata": {},
   "outputs": [
    {
     "data": {
      "text/plain": [
       "{'cantidad por año': {2018: 1},\n",
       " 'porcentaje gratuito por año': {2014: 0, 2015: 0, 2016: 0, 2018: 100}}"
      ]
     },
     "execution_count": 22,
     "metadata": {},
     "output_type": "execute_result"
    }
   ],
   "source": [
    "#probamos\n",
    "Developer('ProjectorGames')"
   ]
  },
  {
   "cell_type": "code",
   "execution_count": 23,
   "metadata": {},
   "outputs": [],
   "source": [
    "#exportamos\n",
    "developer_df.to_parquet('C:/Users/CRISTIAN/Desktop/Proyecto final #  1/Proyecto-Final-individual-1-Henry/funciones_parquet/developer.parquet', index=False)"
   ]
  },
  {
   "cell_type": "markdown",
   "metadata": {},
   "source": [
    "Función UserData\n",
    "\n",
    "def UserData(user_id: str): Debe devolver cantidad de dinero gastado por el usuario, el porcentaje de recomendación en base a reviews.recommend y cantidad de items. \n",
    "\n",
    "Ejemplo de retorno: {\"Usuario X\" : us213ndjss09sdf, \"Dinero gastado\": 200 USD, \"% de recomendación\": 20%, \"cantidad de items\": 5}"
   ]
  },
  {
   "cell_type": "code",
   "execution_count": 24,
   "metadata": {},
   "outputs": [],
   "source": [
    "#sacamos del dataframe 'users_items', las siguientes columnas\n",
    "#items_count', 'user_id', 'item_id'.\n",
    "items = users_items_df[['items_count', 'user_id', 'item_id']]"
   ]
  },
  {
   "cell_type": "code",
   "execution_count": 25,
   "metadata": {},
   "outputs": [],
   "source": [
    "#sacamos del dataframe 'games_steam', las siguientes columnas\n",
    "#'price', 'id'.\n",
    "games = games_steam_df[['price', 'item_id']]"
   ]
  },
  {
   "cell_type": "code",
   "execution_count": 26,
   "metadata": {},
   "outputs": [],
   "source": [
    "#borramos los duplicados \n",
    "games = games.drop_duplicates(subset= 'item_id',  keep='first')\n"
   ]
  },
  {
   "cell_type": "code",
   "execution_count": 28,
   "metadata": {},
   "outputs": [],
   "source": [
    "#modificamos el tipo de dato de la columna 'item_id' a int\n",
    "games['item_id'] = pd.to_numeric(games['item_id'], errors='coerce').fillna(0).astype('int')"
   ]
  },
  {
   "cell_type": "code",
   "execution_count": 29,
   "metadata": {},
   "outputs": [],
   "source": [
    "#unimos ambos datas con las columnas que necesitamos\n",
    "gasto_df = items.merge(games, on = 'item_id', how= 'left')"
   ]
  },
  {
   "cell_type": "code",
   "execution_count": 30,
   "metadata": {},
   "outputs": [],
   "source": [
    "#remplazamos los datos nules por 0.0 ya que son los juegos que son gratiutos\n",
    "gasto_df['price'] = gasto_df['price'].fillna(0.0)"
   ]
  },
  {
   "cell_type": "code",
   "execution_count": 31,
   "metadata": {},
   "outputs": [],
   "source": [
    "#borramos la columan 'item_id'  ya que no la necesitamos mas\n",
    "gasto_df = gasto_df.drop(columns= 'item_id')"
   ]
  },
  {
   "cell_type": "code",
   "execution_count": 32,
   "metadata": {},
   "outputs": [],
   "source": [
    "#ahora agrupamos segun el usuario, la cantidad de dinero gastado\n",
    "gasto_agr_df = gasto_df.groupby('user_id')['price'].sum().reset_index()"
   ]
  },
  {
   "cell_type": "code",
   "execution_count": 34,
   "metadata": {},
   "outputs": [],
   "source": [
    "#creamos otro dataframe con los items por usuario\n",
    "items_df = gasto_df[['user_id', 'items_count']]"
   ]
  },
  {
   "cell_type": "code",
   "execution_count": 35,
   "metadata": {},
   "outputs": [
    {
     "name": "stderr",
     "output_type": "stream",
     "text": [
      "C:\\Users\\CRISTIAN\\AppData\\Local\\Temp\\ipykernel_19888\\2949334071.py:2: SettingWithCopyWarning: \n",
      "A value is trying to be set on a copy of a slice from a DataFrame\n",
      "\n",
      "See the caveats in the documentation: https://pandas.pydata.org/pandas-docs/stable/user_guide/indexing.html#returning-a-view-versus-a-copy\n",
      "  items_df.drop_duplicates(subset= 'user_id', keep= 'first', inplace= True)\n"
     ]
    }
   ],
   "source": [
    "#eliminamos los duplicado de id\n",
    "items_df.drop_duplicates(subset= 'user_id', keep= 'first', inplace= True)"
   ]
  },
  {
   "cell_type": "code",
   "execution_count": 36,
   "metadata": {},
   "outputs": [],
   "source": [
    "#paso final unimos los dataframe items por usuario 'items', con el dataframe total de dinero gastado por usuario 'gastos'\n",
    "userdata_df = items_df.merge(gasto_agr_df, on = 'user_id', how= 'right')"
   ]
  },
  {
   "cell_type": "code",
   "execution_count": 37,
   "metadata": {},
   "outputs": [],
   "source": [
    "users_reviews_dfb = users_reviews_dfb[['user_id', 'recommend']]"
   ]
  },
  {
   "cell_type": "code",
   "execution_count": 40,
   "metadata": {},
   "outputs": [],
   "source": [
    "#creamos la funcion\n",
    "def UserData(user_id):\n",
    "    user = users_reviews_dfb[users_reviews_dfb['user_id'] == user_id]\n",
    "    gasto_dinero = userdata_df[userdata_df['user_id'] == user_id]['price'].iloc[0]\n",
    "    compra_items = userdata_df[userdata_df['user_id'] == user_id]['items_count'].iloc[0]\n",
    "\n",
    "    recomendaciones = user['recommend'].sum()\n",
    "    reviews = len(users_reviews_dfb['user_id'])\n",
    "    recomendaciones_porcet = ((recomendaciones / reviews) * 100)\n",
    "    return {\n",
    "        'user_id': user_id,\n",
    "        'dinero gastado': gasto_dinero,\n",
    "        'items comprados': compra_items.astype(int),\n",
    "        'Porcentaje de recomendaciones': round(recomendaciones_porcet, 3)\n",
    "    }"
   ]
  },
  {
   "cell_type": "code",
   "execution_count": 41,
   "metadata": {},
   "outputs": [
    {
     "data": {
      "text/plain": [
       "{'user_id': 'zzyfo',\n",
       " 'dinero gastado': 9.99,\n",
       " 'items comprados': 84,\n",
       " 'Porcentaje de recomendaciones': 0.0}"
      ]
     },
     "execution_count": 41,
     "metadata": {},
     "output_type": "execute_result"
    }
   ],
   "source": [
    "#probamos\n",
    "UserData('zzyfo')"
   ]
  },
  {
   "cell_type": "code",
   "execution_count": 42,
   "metadata": {},
   "outputs": [],
   "source": [
    "#exportamos\n",
    "users_reviews_dfb.to_parquet('C:/Users/CRISTIAN/Desktop/Proyecto final #  1/Proyecto-Final-individual-1-Henry/funciones_parquet/users_reviews.parquet', index=False)\n",
    "userdata_df.to_parquet('C:/Users/CRISTIAN/Desktop/Proyecto final #  1/Proyecto-Final-individual-1-Henry/funciones_parquet/userdata.parquet', index=False)"
   ]
  },
  {
   "cell_type": "markdown",
   "metadata": {},
   "source": [
    "Funcion UserForGenre\n",
    "\n",
    "def UserForGenre(genero: str): Debe devolver el usuario que acumula más horas jugadas para el género dado y una lista de la acumulación de horas jugadas por año de lanzamiento. Ejemplo de retorno: {\"Usuario con más horas jugadas para Género X\" : us213ndjss09sdf, \"Horas jugadas\":[{Año: 2013, Horas: 203}, {Año: 2012, Horas: 100}, {Año: 2011, Horas: 23}]}"
   ]
  },
  {
   "cell_type": "code",
   "execution_count": 6,
   "metadata": {},
   "outputs": [],
   "source": [
    "#extraemos las columans necesarias de cada uno de los dataframe\n",
    "genres = games_steam_df[['genres', 'release_year', 'item_id']]"
   ]
  },
  {
   "cell_type": "code",
   "execution_count": 7,
   "metadata": {},
   "outputs": [
    {
     "data": {
      "text/html": [
       "<div>\n",
       "<style scoped>\n",
       "    .dataframe tbody tr th:only-of-type {\n",
       "        vertical-align: middle;\n",
       "    }\n",
       "\n",
       "    .dataframe tbody tr th {\n",
       "        vertical-align: top;\n",
       "    }\n",
       "\n",
       "    .dataframe thead th {\n",
       "        text-align: right;\n",
       "    }\n",
       "</style>\n",
       "<table border=\"1\" class=\"dataframe\">\n",
       "  <thead>\n",
       "    <tr style=\"text-align: right;\">\n",
       "      <th></th>\n",
       "      <th>genres</th>\n",
       "      <th>release_year</th>\n",
       "      <th>item_id</th>\n",
       "    </tr>\n",
       "  </thead>\n",
       "  <tbody>\n",
       "    <tr>\n",
       "      <th>0</th>\n",
       "      <td>Action</td>\n",
       "      <td>2018.0</td>\n",
       "      <td>761140.0</td>\n",
       "    </tr>\n",
       "    <tr>\n",
       "      <th>1</th>\n",
       "      <td>Casual</td>\n",
       "      <td>2018.0</td>\n",
       "      <td>761140.0</td>\n",
       "    </tr>\n",
       "    <tr>\n",
       "      <th>2</th>\n",
       "      <td>Indie</td>\n",
       "      <td>2018.0</td>\n",
       "      <td>761140.0</td>\n",
       "    </tr>\n",
       "    <tr>\n",
       "      <th>3</th>\n",
       "      <td>Simulation</td>\n",
       "      <td>2018.0</td>\n",
       "      <td>761140.0</td>\n",
       "    </tr>\n",
       "    <tr>\n",
       "      <th>4</th>\n",
       "      <td>Strategy</td>\n",
       "      <td>2018.0</td>\n",
       "      <td>761140.0</td>\n",
       "    </tr>\n",
       "    <tr>\n",
       "      <th>...</th>\n",
       "      <td>...</td>\n",
       "      <td>...</td>\n",
       "      <td>...</td>\n",
       "    </tr>\n",
       "    <tr>\n",
       "      <th>74829</th>\n",
       "      <td>Racing</td>\n",
       "      <td>2018.0</td>\n",
       "      <td>610660.0</td>\n",
       "    </tr>\n",
       "    <tr>\n",
       "      <th>74830</th>\n",
       "      <td>Simulation</td>\n",
       "      <td>2018.0</td>\n",
       "      <td>610660.0</td>\n",
       "    </tr>\n",
       "    <tr>\n",
       "      <th>74831</th>\n",
       "      <td>Casual</td>\n",
       "      <td>2017.0</td>\n",
       "      <td>658870.0</td>\n",
       "    </tr>\n",
       "    <tr>\n",
       "      <th>74832</th>\n",
       "      <td>Indie</td>\n",
       "      <td>2017.0</td>\n",
       "      <td>658870.0</td>\n",
       "    </tr>\n",
       "    <tr>\n",
       "      <th>74833</th>\n",
       "      <td>NaN</td>\n",
       "      <td>NaN</td>\n",
       "      <td>681550.0</td>\n",
       "    </tr>\n",
       "  </tbody>\n",
       "</table>\n",
       "<p>74834 rows × 3 columns</p>\n",
       "</div>"
      ],
      "text/plain": [
       "           genres  release_year   item_id\n",
       "0          Action        2018.0  761140.0\n",
       "1          Casual        2018.0  761140.0\n",
       "2           Indie        2018.0  761140.0\n",
       "3      Simulation        2018.0  761140.0\n",
       "4        Strategy        2018.0  761140.0\n",
       "...           ...           ...       ...\n",
       "74829      Racing        2018.0  610660.0\n",
       "74830  Simulation        2018.0  610660.0\n",
       "74831      Casual        2017.0  658870.0\n",
       "74832       Indie        2017.0  658870.0\n",
       "74833         NaN           NaN  681550.0\n",
       "\n",
       "[74834 rows x 3 columns]"
      ]
     },
     "execution_count": 7,
     "metadata": {},
     "output_type": "execute_result"
    }
   ],
   "source": [
    "genres"
   ]
  },
  {
   "cell_type": "code",
   "execution_count": 8,
   "metadata": {},
   "outputs": [],
   "source": [
    "playtime = users_items_df[['user_id', 'playtime_forever', 'item_id']]"
   ]
  },
  {
   "cell_type": "code",
   "execution_count": 9,
   "metadata": {},
   "outputs": [
    {
     "name": "stderr",
     "output_type": "stream",
     "text": [
      "C:\\Users\\CRISTIAN\\AppData\\Local\\Temp\\ipykernel_12344\\2118049754.py:2: SettingWithCopyWarning: \n",
      "A value is trying to be set on a copy of a slice from a DataFrame.\n",
      "Try using .loc[row_indexer,col_indexer] = value instead\n",
      "\n",
      "See the caveats in the documentation: https://pandas.pydata.org/pandas-docs/stable/user_guide/indexing.html#returning-a-view-versus-a-copy\n",
      "  genres['item_id'] = pd.to_numeric(genres['item_id'], errors='coerce').fillna(0).astype(int)\n"
     ]
    }
   ],
   "source": [
    "#modificamos el tipo de columna 'item_id', para unir los dataframe\n",
    "genres['item_id'] = pd.to_numeric(genres['item_id'], errors='coerce').fillna(0).astype(int)"
   ]
  },
  {
   "cell_type": "code",
   "execution_count": 10,
   "metadata": {},
   "outputs": [],
   "source": [
    "userforgenre_df = genres.merge(playtime, on= 'item_id')"
   ]
  },
  {
   "cell_type": "code",
   "execution_count": 11,
   "metadata": {},
   "outputs": [],
   "source": [
    "userforgenre_df.drop(columns = 'item_id', inplace=True)"
   ]
  },
  {
   "cell_type": "code",
   "execution_count": 12,
   "metadata": {},
   "outputs": [],
   "source": [
    "userforgenre_df = userforgenre_df.dropna(subset= ['release_year'])"
   ]
  },
  {
   "cell_type": "code",
   "execution_count": 13,
   "metadata": {},
   "outputs": [
    {
     "data": {
      "text/plain": [
       "array([1997., 1998., 2006., 2003., 2005., 2007., 2002., 2000., 1995.,\n",
       "       1996., 1994., 2001., 1993., 2004., 1999., 2008., 2009., 1992.,\n",
       "       1989., 2010., 2011., 2013., 2012., 2014., 1983., 1984., 2015.,\n",
       "       2016., 2017., 1987., 1991., 1988., 1990.])"
      ]
     },
     "execution_count": 13,
     "metadata": {},
     "output_type": "execute_result"
    }
   ],
   "source": [
    "userforgenre_df['release_year'].unique()"
   ]
  },
  {
   "cell_type": "code",
   "execution_count": 14,
   "metadata": {},
   "outputs": [],
   "source": [
    "userforgenre_df['release_year'] = userforgenre_df['release_year'].astype(int)"
   ]
  },
  {
   "cell_type": "code",
   "execution_count": 15,
   "metadata": {},
   "outputs": [],
   "source": [
    "#tomamos un subconjunto aleatorio del 5% de las filas de 'userforgenre_df'\n",
    "#reteamos el indice limpio y continuo desde 0, y descarta el indice antiguo evitando\n",
    "#que se convierta en una columna adicional en el dataframe.\n",
    "userforgenre_df = userforgenre_df.sample(frac=0.05, random_state=5).reset_index(drop=True)"
   ]
  },
  {
   "cell_type": "code",
   "execution_count": 16,
   "metadata": {},
   "outputs": [
    {
     "data": {
      "text/plain": [
       "(8796, 4)"
      ]
     },
     "execution_count": 16,
     "metadata": {},
     "output_type": "execute_result"
    }
   ],
   "source": [
    "userforgenre_df.shape"
   ]
  },
  {
   "cell_type": "code",
   "execution_count": 17,
   "metadata": {},
   "outputs": [],
   "source": [
    "#creamos la funcion\n",
    "def UserForGenre(genre):\n",
    "    df_genre = userforgenre_df[userforgenre_df['genres'] == genre]\n",
    "    df_genre['playtime_forever'] = (df_genre['playtime_forever'] / 60 / 60).astype(int)\n",
    "    playtime_user_max = df_genre.loc[df_genre['playtime_forever'].idxmax(), 'user_id']\n",
    "    playtime_yearly = df_genre.groupby('release_year')['playtime_forever'].sum().reset_index()\n",
    "    list_playtime = [{'año': int(year), 'Horas': int(hours)}for year, hours in zip(playtime_yearly['release_year'], playtime_yearly['playtime_forever'])]\n",
    "    return {\n",
    "        'usuario con mas horas jugadas para genero' + genre: playtime_user_max, 'Horas jugadas':  playtime_yearly\n",
    "    }\n",
    "    "
   ]
  },
  {
   "cell_type": "code",
   "execution_count": 22,
   "metadata": {},
   "outputs": [
    {
     "name": "stderr",
     "output_type": "stream",
     "text": [
      "C:\\Users\\CRISTIAN\\AppData\\Local\\Temp\\ipykernel_12344\\1686506141.py:4: SettingWithCopyWarning: \n",
      "A value is trying to be set on a copy of a slice from a DataFrame.\n",
      "Try using .loc[row_indexer,col_indexer] = value instead\n",
      "\n",
      "See the caveats in the documentation: https://pandas.pydata.org/pandas-docs/stable/user_guide/indexing.html#returning-a-view-versus-a-copy\n",
      "  df_genre['playtime_forever'] = (df_genre['playtime_forever'] / 60 / 60).astype(int)\n"
     ]
    },
    {
     "data": {
      "text/plain": [
       "{'usuario con mas horas jugadas para generoIndie': 'Slinkzxo',\n",
       " 'Horas jugadas':     release_year  playtime_forever\n",
       " 0           1988                 0\n",
       " 1           1997                 0\n",
       " 2           1999                 2\n",
       " 3           2000                 0\n",
       " 4           2001                 0\n",
       " 5           2002                 0\n",
       " 6           2003                 0\n",
       " 7           2005                 0\n",
       " 8           2006               189\n",
       " 9           2007                 0\n",
       " 10          2008                 2\n",
       " 11          2009                 0\n",
       " 12          2010                 0\n",
       " 13          2011                72\n",
       " 14          2012                26\n",
       " 15          2013                33\n",
       " 16          2014                 6\n",
       " 17          2015                13\n",
       " 18          2016                27\n",
       " 19          2017                32}"
      ]
     },
     "execution_count": 22,
     "metadata": {},
     "output_type": "execute_result"
    }
   ],
   "source": [
    "#probamos\n",
    "UserForGenre('Indie')"
   ]
  },
  {
   "cell_type": "code",
   "execution_count": 23,
   "metadata": {},
   "outputs": [],
   "source": [
    "#exportamos\n",
    "userforgenre_df.to_parquet('C:/Users/CRISTIAN/Desktop/Proyecto final #  1/Proyecto-Final-individual-1-Henry/funciones_parquet/userforgenre.parquet', index=False)"
   ]
  },
  {
   "cell_type": "markdown",
   "metadata": {},
   "source": [
    "Función BestDeveloperYear\n",
    "\n",
    "def BestDeveloperYear(año : int): Devuelve el top 3 de desarrolladores con juegos MÁS recomendados por usuarios para el año dado. (reviews.recommend = True y comentarios positivos) Ejemplo de retorno: [{\"Puesto 1\" : X}, {\"Puesto 2\" : Y},{\"Puesto 3\" : Z}]"
   ]
  },
  {
   "cell_type": "code",
   "execution_count": 24,
   "metadata": {},
   "outputs": [],
   "source": [
    "#extaemos las columnas que necesitamos de cada dataframe\n",
    "reviews = users_reviews_dfb[['item_id', 'recommend', 'sentiment']]\n"
   ]
  },
  {
   "cell_type": "code",
   "execution_count": 25,
   "metadata": {},
   "outputs": [],
   "source": [
    "developer = games_steam_df[['item_id', 'release_year', 'developer']]"
   ]
  },
  {
   "cell_type": "code",
   "execution_count": 26,
   "metadata": {},
   "outputs": [
    {
     "name": "stderr",
     "output_type": "stream",
     "text": [
      "C:\\Users\\CRISTIAN\\AppData\\Local\\Temp\\ipykernel_12344\\1118179134.py:2: SettingWithCopyWarning: \n",
      "A value is trying to be set on a copy of a slice from a DataFrame.\n",
      "Try using .loc[row_indexer,col_indexer] = value instead\n",
      "\n",
      "See the caveats in the documentation: https://pandas.pydata.org/pandas-docs/stable/user_guide/indexing.html#returning-a-view-versus-a-copy\n",
      "  developer['item_id'] = pd.to_numeric(developer['item_id'], errors='coerce').fillna(0).astype(int)\n"
     ]
    }
   ],
   "source": [
    "#convertimos la columan 'item_id' a tipo 'int'\n",
    "developer['item_id'] = pd.to_numeric(developer['item_id'], errors='coerce').fillna(0).astype(int)"
   ]
  },
  {
   "cell_type": "code",
   "execution_count": 27,
   "metadata": {},
   "outputs": [],
   "source": [
    "#unimos los dataframe obtenidos anteriormente\n",
    "bestdeveloperyear_df = reviews.merge(developer, on = 'item_id').dropna()"
   ]
  },
  {
   "cell_type": "code",
   "execution_count": 29,
   "metadata": {},
   "outputs": [
    {
     "data": {
      "text/html": [
       "<div>\n",
       "<style scoped>\n",
       "    .dataframe tbody tr th:only-of-type {\n",
       "        vertical-align: middle;\n",
       "    }\n",
       "\n",
       "    .dataframe tbody tr th {\n",
       "        vertical-align: top;\n",
       "    }\n",
       "\n",
       "    .dataframe thead th {\n",
       "        text-align: right;\n",
       "    }\n",
       "</style>\n",
       "<table border=\"1\" class=\"dataframe\">\n",
       "  <thead>\n",
       "    <tr style=\"text-align: right;\">\n",
       "      <th></th>\n",
       "      <th>item_id</th>\n",
       "      <th>recommend</th>\n",
       "      <th>sentiment</th>\n",
       "      <th>release_year</th>\n",
       "      <th>developer</th>\n",
       "    </tr>\n",
       "  </thead>\n",
       "  <tbody>\n",
       "    <tr>\n",
       "      <th>0</th>\n",
       "      <td>1250</td>\n",
       "      <td>True</td>\n",
       "      <td>2</td>\n",
       "      <td>2009.0</td>\n",
       "      <td>Tripwire Interactive</td>\n",
       "    </tr>\n",
       "    <tr>\n",
       "      <th>1</th>\n",
       "      <td>248820</td>\n",
       "      <td>True</td>\n",
       "      <td>2</td>\n",
       "      <td>2013.0</td>\n",
       "      <td>Hopoo Games, LLC</td>\n",
       "    </tr>\n",
       "    <tr>\n",
       "      <th>2</th>\n",
       "      <td>248820</td>\n",
       "      <td>True</td>\n",
       "      <td>2</td>\n",
       "      <td>2013.0</td>\n",
       "      <td>Hopoo Games, LLC</td>\n",
       "    </tr>\n",
       "    <tr>\n",
       "      <th>3</th>\n",
       "      <td>248820</td>\n",
       "      <td>True</td>\n",
       "      <td>2</td>\n",
       "      <td>2013.0</td>\n",
       "      <td>Hopoo Games, LLC</td>\n",
       "    </tr>\n",
       "    <tr>\n",
       "      <th>4</th>\n",
       "      <td>250320</td>\n",
       "      <td>True</td>\n",
       "      <td>2</td>\n",
       "      <td>2013.0</td>\n",
       "      <td>Telltale Games</td>\n",
       "    </tr>\n",
       "    <tr>\n",
       "      <th>...</th>\n",
       "      <td>...</td>\n",
       "      <td>...</td>\n",
       "      <td>...</td>\n",
       "      <td>...</td>\n",
       "      <td>...</td>\n",
       "    </tr>\n",
       "    <tr>\n",
       "      <th>55292</th>\n",
       "      <td>233270</td>\n",
       "      <td>True</td>\n",
       "      <td>2</td>\n",
       "      <td>2013.0</td>\n",
       "      <td>Ubisoft Montreal</td>\n",
       "    </tr>\n",
       "    <tr>\n",
       "      <th>55293</th>\n",
       "      <td>273110</td>\n",
       "      <td>True</td>\n",
       "      <td>2</td>\n",
       "      <td>2014.0</td>\n",
       "      <td>Nexon</td>\n",
       "    </tr>\n",
       "    <tr>\n",
       "      <th>55294</th>\n",
       "      <td>273110</td>\n",
       "      <td>True</td>\n",
       "      <td>2</td>\n",
       "      <td>2014.0</td>\n",
       "      <td>Nexon</td>\n",
       "    </tr>\n",
       "    <tr>\n",
       "      <th>55295</th>\n",
       "      <td>273110</td>\n",
       "      <td>True</td>\n",
       "      <td>2</td>\n",
       "      <td>2014.0</td>\n",
       "      <td>Nexon</td>\n",
       "    </tr>\n",
       "    <tr>\n",
       "      <th>55296</th>\n",
       "      <td>273110</td>\n",
       "      <td>True</td>\n",
       "      <td>2</td>\n",
       "      <td>2014.0</td>\n",
       "      <td>Nexon</td>\n",
       "    </tr>\n",
       "  </tbody>\n",
       "</table>\n",
       "<p>53358 rows × 5 columns</p>\n",
       "</div>"
      ],
      "text/plain": [
       "       item_id  recommend  sentiment  release_year             developer\n",
       "0         1250       True          2        2009.0  Tripwire Interactive\n",
       "1       248820       True          2        2013.0      Hopoo Games, LLC\n",
       "2       248820       True          2        2013.0      Hopoo Games, LLC\n",
       "3       248820       True          2        2013.0      Hopoo Games, LLC\n",
       "4       250320       True          2        2013.0        Telltale Games\n",
       "...        ...        ...        ...           ...                   ...\n",
       "55292   233270       True          2        2013.0      Ubisoft Montreal\n",
       "55293   273110       True          2        2014.0                 Nexon\n",
       "55294   273110       True          2        2014.0                 Nexon\n",
       "55295   273110       True          2        2014.0                 Nexon\n",
       "55296   273110       True          2        2014.0                 Nexon\n",
       "\n",
       "[53358 rows x 5 columns]"
      ]
     },
     "execution_count": 29,
     "metadata": {},
     "output_type": "execute_result"
    }
   ],
   "source": [
    "#eliminamos los nulos de la columna 'release_year'\n",
    "bestdeveloperyear_df.dropna(subset= ['release_year'])"
   ]
  },
  {
   "cell_type": "code",
   "execution_count": 30,
   "metadata": {},
   "outputs": [],
   "source": [
    "#cambiamos el tipo de dato de float a int\n",
    "bestdeveloperyear_df['release_year'] = bestdeveloperyear_df['release_year'].astype(int)"
   ]
  },
  {
   "cell_type": "code",
   "execution_count": 31,
   "metadata": {},
   "outputs": [],
   "source": [
    "bestdeveloperyear_df.drop(columns= 'item_id', inplace = True)"
   ]
  },
  {
   "cell_type": "code",
   "execution_count": 32,
   "metadata": {},
   "outputs": [],
   "source": [
    "#creamos la funcion\n",
    "def BestDeveloperYear(year):\n",
    "    año = bestdeveloperyear_df[bestdeveloperyear_df['release_year'] == year]\n",
    "    filtro = año[(año['sentiment'] == 2) & (año['recommend'] == True)]\n",
    "    developer = filtro.groupby('developer')['sentiment'].sum().reset_index()\n",
    "    ordenado_df = developer.sort_values(by='sentiment', ascending=False)\n",
    "    developers_top = ordenado_df.head(3)\n",
    "    result = [{\"Puesto {}: {}\".format(i+1, row['developer'])} for i, (_, row) in enumerate(developers_top.iterrows())]\n",
    "    return result"
   ]
  },
  {
   "cell_type": "code",
   "execution_count": 48,
   "metadata": {},
   "outputs": [
    {
     "data": {
      "text/plain": [
       "[{'Puesto 1: Facepunch Studios'},\n",
       " {'Puesto 2: Nabi Studios'},\n",
       " {'Puesto 3: Outerlight Ltd.'}]"
      ]
     },
     "execution_count": 48,
     "metadata": {},
     "output_type": "execute_result"
    }
   ],
   "source": [
    "#Probamos\n",
    "BestDeveloperYear(2006)"
   ]
  },
  {
   "cell_type": "code",
   "execution_count": 49,
   "metadata": {},
   "outputs": [],
   "source": [
    "bestdeveloperyear_df.to_parquet('C:/Users/CRISTIAN/Desktop/Proyecto final #  1/Proyecto-Final-individual-1-Henry/funciones_parquet/bestdeveloperyear.parquet', index=False)"
   ]
  },
  {
   "cell_type": "markdown",
   "metadata": {},
   "source": [
    "Función DeveloperReviewsAnalysis\n",
    "\n",
    "def developer_reviews_analysis( desarrolladora: str): Según el desarrollador, se devuelve un diccionario con el nombre del desarrollador como llave y una lista con la cantidad total de registros de reseñas de usuarios que se encuentren categorizados con un análisis de sentimiento como valor positivo o negativo. Ejemplo de retorno: {'Valve' : [Negative = 182, Positive = 278]}"
   ]
  },
  {
   "cell_type": "code",
   "execution_count": 50,
   "metadata": {},
   "outputs": [],
   "source": [
    "#volvemos y extraemos la columnas que necesitamos de cada dataframe\n",
    "developer = games_steam_df[['developer', 'item_id']].dropna()\n"
   ]
  },
  {
   "cell_type": "code",
   "execution_count": 51,
   "metadata": {},
   "outputs": [],
   "source": [
    "reviews = users_reviews_dfb[['item_id', 'sentiment']].dropna()"
   ]
  },
  {
   "cell_type": "code",
   "execution_count": 52,
   "metadata": {},
   "outputs": [],
   "source": [
    "#volvemos a repetir el paso de cambiar el tipo de dato de la columna 'item_id' a int\n",
    "developer['item_id'] = developer['item_id'].astype(int)"
   ]
  },
  {
   "cell_type": "code",
   "execution_count": 53,
   "metadata": {},
   "outputs": [],
   "source": [
    "#unimos los dataframes \n",
    "reviews_developer_df = developer.merge(reviews, on= 'item_id')"
   ]
  },
  {
   "cell_type": "code",
   "execution_count": 54,
   "metadata": {},
   "outputs": [],
   "source": [
    "#filtramos la columna 'sentiment', no teniento encuenta las reseñas que se encuentan categorizadas\n",
    "#como neutras\n",
    "reviews_developer_df = reviews_developer_df[reviews_developer_df['sentiment'] != 1]"
   ]
  },
  {
   "cell_type": "code",
   "execution_count": 55,
   "metadata": {},
   "outputs": [
    {
     "data": {
      "text/plain": [
       "array([0, 2], dtype=int64)"
      ]
     },
     "execution_count": 55,
     "metadata": {},
     "output_type": "execute_result"
    }
   ],
   "source": [
    "#verificamos\n",
    "reviews_developer_df['sentiment'].unique()"
   ]
  },
  {
   "cell_type": "code",
   "execution_count": 56,
   "metadata": {},
   "outputs": [],
   "source": [
    "#creamos la funcion\n",
    "def DeveloperReviewsAnalysis(desarrollador):\n",
    "    developer = reviews_developer_df[reviews_developer_df['developer'] == desarrollador]\n",
    "    positivo = 0\n",
    "    negativo = 0\n",
    "    for sentiment in developer['sentiment']:\n",
    "        if sentiment == 2:\n",
    "            positivo += 1\n",
    "        else: \n",
    "            negativo += 1\n",
    "    return {\n",
    "        desarrollador: [f\"Negative = {negativo}\", f\"positive = {positivo}\"]\n",
    "    }"
   ]
  },
  {
   "cell_type": "code",
   "execution_count": 57,
   "metadata": {},
   "outputs": [
    {
     "data": {
      "text/plain": [
       "{'Valve': ['Negative = 1072', 'positive = 4300']}"
      ]
     },
     "execution_count": 57,
     "metadata": {},
     "output_type": "execute_result"
    }
   ],
   "source": [
    "#probamos\n",
    "DeveloperReviewsAnalysis('Valve')"
   ]
  },
  {
   "cell_type": "code",
   "execution_count": 58,
   "metadata": {},
   "outputs": [],
   "source": [
    "reviews_developer_df.to_parquet('C:/Users/CRISTIAN/Desktop/Proyecto final #  1/Proyecto-Final-individual-1-Henry/funciones_parquet/DeveloperReviewsAnalysis.parquet', index=False)"
   ]
  }
 ],
 "metadata": {
  "kernelspec": {
   "display_name": "Python 3",
   "language": "python",
   "name": "python3"
  },
  "language_info": {
   "codemirror_mode": {
    "name": "ipython",
    "version": 3
   },
   "file_extension": ".py",
   "mimetype": "text/x-python",
   "name": "python",
   "nbconvert_exporter": "python",
   "pygments_lexer": "ipython3",
   "version": "3.12.3"
  }
 },
 "nbformat": 4,
 "nbformat_minor": 2
}
